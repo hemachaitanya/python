{
 "cells": [
  {
   "cell_type": "markdown",
   "metadata": {},
   "source": [
    "* first we create a new environment  by using below commands \n",
    "\n",
    "sudo apt update && sudo apt install -y python3-pip\n",
    "sudo apt update && pip install boto3 -y\n",
    "sudo apt update && sudo apt install python3.12-venv -y\n",
    "python3 -m venv myenv\n",
    "source /home/ubuntu/venv/bin/activate\n"
   ]
  },
  {
   "cell_type": "code",
   "execution_count": null,
   "metadata": {},
   "outputs": [],
   "source": [
    "import boto3\n",
    "\n",
    "def get_instance_info(region):\n",
    "    ec2 = boto3.client('ec2', region_name=region)\n",
    "    instances = ec2.describe_instances()\n",
    "\n",
    "    for reservation in instances['Reservations']:\n",
    "        for instance in reservation['Instances']:\n",
    "            instance_id = instance['InstanceId']\n",
    "            public_ip = instance.get('PublicIpAddress', 'N/A')\n",
    "            private_ip = instance.get('PrivateIpAddress', 'N/A')\n",
    "            pem_key_name = instance.get('KeyName', 'N/A')\n",
    "            state = instance['State']['Name']\n",
    "\n",
    "            print(f\"Instance ID: {instance_id}, Public IP: {public_ip}, Private IP: {private_ip}, PEM Key: {pem_key_name}, Status: {state}\")\n",
    "def main():\n",
    "    regions = [region['RegionName'] for region in boto3.client('ec2').describe_regions()['Regions']]\n",
    "\n",
    "    for region in regions:\n",
    "        print(f\"Instances in region: {region}\")\n",
    "        print('--------------------------------------------------------------------------------------------------')\n",
    "        get_instance_info(region)\n",
    "        print(\"\\n\")\n",
    "\n",
    "if __name__ == \"__main__\":\n",
    "    main()"
   ]
  }
 ],
 "metadata": {
  "language_info": {
   "name": "python"
  }
 },
 "nbformat": 4,
 "nbformat_minor": 2
}
