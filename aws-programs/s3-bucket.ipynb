{
 "cells": [
  {
   "cell_type": "markdown",
   "metadata": {},
   "source": [
    "## s3 buckets lists in all reagions "
   ]
  },
  {
   "cell_type": "code",
   "execution_count": null,
   "metadata": {},
   "outputs": [],
   "source": []
  }
 ],
 "metadata": {
  "language_info": {
   "name": "python"
  }
 },
 "nbformat": 4,
 "nbformat_minor": 2
}
