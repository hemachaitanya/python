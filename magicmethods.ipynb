{
        "cells": [
                {
                        "cell_type": "code",
                        "execution_count": null,
                        "metadata": {},
                        "outputs": [],
                        "source": [
                                "class Point:\n",
                                "    def __init__(self, x, y):\n",
                                "        self.x = x\n",
                                "        self.y = y\n",
                                "    @property\n",
                                "    def point_x(self):\n",
                                "        return self.__x\n",
                                "    @property\n",
                                "    def point_y(self):\n",
                                "        return self.__y\n",
                                "    @x.setter\n",
                                "    def set_x(self, value): ## _ it is a private number u should not access directly\n",
                                "        self.__x = value\n",
                                "    @y.setter \n",
                                "    def set_y(self, value): ## _ it is a private number\n",
                                "        self.__y = value\n",
                                "    \n",
                                "    "
                        ]
                },
                {
                        "cell_type": "code",
                        "execution_count": null,
                        "metadata": {},
                        "outputs": [],
                        "source": [
                                "p1 = Point(3,2)\n",
                                "p2 = Point(2,2)\n",
                                "p = p1 + p2\n",
                                "print(p)"
                        ]
                },
                {
                        "cell_type": "code",
                        "execution_count": 5,
                        "metadata": {},
                        "outputs": [],
                        "source": [
                                "class Person:\n",
                                "    def __init__(self, name, age):\n",
                                "        self.name = name\n",
                                "        self.age = age\n",
                                "    @property\n",
                                "    def name(self):\n",
                                "        return self.__name\n",
                                "    @property\n",
                                "    def age(self):\n",
                                "        return self.__age\n",
                                "    @name.setter\n",
                                "    def set_name(self, value):\n",
                                "        self.__name = value\n",
                                "    @age.setter\n",
                                "    def set_age(self, value):\n",
                                "        self.__age = value\n",
                                "    "
                        ]
                },
                {
                        "cell_type": "code",
                        "execution_count": null,
                        "metadata": {},
                        "outputs": [],
                        "source": [
                                "P1 = Person(hema,29)\n",
                                "print(P1)\n"
                        ]
                },
                {
                        "cell_type": "code",
                        "execution_count": 8,
                        "metadata": {},
                        "outputs": [],
                        "source": [
                                "# handling errors in python\n",
                                "\n",
                                "# when error happends don't show to the user and give a decent error message\n",
                                "def divide(x,y):\n",
                                "    return x//y"
                        ]
                },
                {
                        "cell_type": "code",
                        "execution_count": 10,
                        "metadata": {},
                        "outputs": [
                                {
                                        "data": {
                                                "text/plain": [
                                                        "4"
                                                ]
                                        },
                                        "execution_count": 10,
                                        "metadata": {},
                                        "output_type": "execute_result"
                                }
                        ],
                        "source": [
                                "divide(8,2)"
                        ]
                },
                {
                        "cell_type": "code",
                        "execution_count": null,
                        "metadata": {},
                        "outputs": [],
                        "source": [
                                "divide(9,0)"
                        ]
                },
                {
                        "cell_type": "code",
                        "execution_count": 12,
                        "metadata": {},
                        "outputs": [],
                        "source": [
                                "def divide(x,y):\n",
                                "    \"\"\"this function is used to divide x and y\n",
                                "\n",
                                "    Args:\n",
                                "        x (_type_): _description_\n",
                                "        y (_type_): _description_\n",
                                "    return: result of divide\n",
                                "    raises:\n",
                                "       ZeroDivisionError: if y is zero\n",
                                "    \"\"\"\n",
                                "    return x//y"
                        ]
                },
                {
                        "cell_type": "code",
                        "execution_count": 13,
                        "metadata": {},
                        "outputs": [
                                {
                                        "name": "stdout",
                                        "output_type": "stream",
                                        "text": [
                                                "invalid values passed\n"
                                        ]
                                }
                        ],
                        "source": [
                                "try:\n",
                                "    divide(5,0)\n",
                                "except:\n",
                                "    print(\"invalid values passed\")"
                        ]
                },
                {
                        "cell_type": "code",
                        "execution_count": 14,
                        "metadata": {},
                        "outputs": [
                                {
                                        "name": "stdout",
                                        "output_type": "stream",
                                        "text": [
                                                "invalid values passed\n"
                                        ]
                                }
                        ],
                        "source": [
                                "# don't cache every thing \n",
                                "try:\n",
                                "    divide(5,0)\n",
                                "except ZeroDivisionError:\n",
                                "    print(\"invalid values passed\")\n",
                                "except:\n",
                                "    print(\"i don't know whats the error\")\n"
                        ]
                },
                {
                        "cell_type": "code",
                        "execution_count": 16,
                        "metadata": {},
                        "outputs": [
                                {
                                        "name": "stdout",
                                        "output_type": "stream",
                                        "text": [
                                                "Date in en_US.UTF-8 locale: 4/28/2024\n",
                                                "Date in fr_FR.UTF-8 locale: 28/04/2024\n",
                                                "Date in ISO standard: 2024-04-28T00:00:00\n"
                                        ]
                                }
                        ],
                        "source": [
                                "import datetime\n",
                                "import locale\n",
                                "\n",
                                "def get_date_from_input():\n",
                                "    while True:\n",
                                "        date_str = input(\"Enter a date in the format dd/mm/yyyy: \")\n",
                                "        try:\n",
                                "            date = datetime.datetime.strptime(date_str, \"%d/%m/%Y\")\n",
                                "            return date\n",
                                "        except ValueError:\n",
                                "            print(\"Invalid date format. Please enter date in dd/mm/yyyy format.\")\n",
                                "\n",
                                "def print_date_in_locale(date, loc):\n",
                                "    locale.setlocale(locale.LC_TIME, loc)\n",
                                "    formatted_date = date.strftime(\"%x\")\n",
                                "    print(f\"Date in {loc} locale: {formatted_date}\")\n",
                                "\n",
                                "def print_date_in_iso_standard(date):\n",
                                "    iso_date = date.isoformat()\n",
                                "    print(\"Date in ISO standard:\", iso_date)\n",
                                "\n",
                                "if __name__ == \"__main__\":\n",
                                "    user_date = get_date_from_input()\n",
                                "    print_date_in_locale(user_date, \"en_US.UTF-8\")\n",
                                "    print_date_in_locale(user_date, \"fr_FR.UTF-8\")\n",
                                "    print_date_in_iso_standard(user_date)\n"
                        ]
                },
                {
                        "cell_type": "code",
                        "execution_count": null,
                        "metadata": {},
                        "outputs": [],
                        "source": [
                                "# interminal execute below commands\n",
                                "# apport number or apport time \n",
                                "# python\n",
                                "my_inpute_date = input(\"enter the date:\")\n",
                                "import datetime\n",
                                "my_date = datetime.strptime(my_inpute_date)\n",
                                "import locale\n",
                                "datetime.datetime.now()\n",
                                "print(datetime.datetime.now())"
                        ]
                }
        ],
        "metadata": {
                "kernelspec": {
                        "display_name": "Python 3",
                        "language": "python",
                        "name": "python3"
                },
                "language_info": {
                        "codemirror_mode": {
                                "name": "ipython",
                                "version": 3
                        },
                        "file_extension": ".py",
                        "mimetype": "text/x-python",
                        "name": "python",
                        "nbconvert_exporter": "python",
                        "pygments_lexer": "ipython3",
                        "version": "3.11.3"
                }
        },
        "nbformat": 4,
        "nbformat_minor": 2
}
